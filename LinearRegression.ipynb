{
 "cells": [
  {
   "cell_type": "markdown",
   "id": "997bffd0",
   "metadata": {},
   "source": [
    "# Lab - Assignment1\n",
    "Aadarsh Siddha\n",
    "Praneith Ranganath"
   ]
  },
  {
   "cell_type": "code",
   "execution_count": 165,
   "id": "d9a597a3",
   "metadata": {},
   "outputs": [],
   "source": [
    "import pandas as pd\n",
    "import numpy as np\n",
    "import math\n",
    "import seaborn as sns\n",
    "from tqdm import tqdm\n",
    "from sklearn.model_selection import train_test_split\n",
    "import matplotlib.pyplot as plt"
   ]
  },
  {
   "cell_type": "code",
   "execution_count": 166,
   "id": "446e8c02",
   "metadata": {},
   "outputs": [],
   "source": [
    "# A class to prep data before fitting model\n",
    "class DataPrep:\n",
    "    \n",
    "    def __init__(self, X, target, test_split_ratio):\n",
    "        self.X = X\n",
    "        self.target = target\n",
    "        self.test_split_ratio = test_split_ratio\n",
    "    \n",
    "    # split data based on a target var\n",
    "    def data_split(self, X, target, test_split_ratio):\n",
    "        X_data = X.drop([target], axis=1)\n",
    "        y_data = X[target]\n",
    "        self.trainX, self.testX, self.trainY, self.testY = train_test_split(X_data, \n",
    "                                                                            y_data,test_size = test_split_ratio)\n",
    "        return self.trainX, self.testX, self.trainY, self.testY\n",
    "    \n",
    "    # add coloumn X0=1\n",
    "    def add_X0(self, X):\n",
    "        return np.column_stack([np.ones(X.shape[0]), X])\n",
    "    \n",
    "    def normalize_testdata(self, X):\n",
    "        mean = np.mean(X, axis=0)\n",
    "        std = np.std(X, axis=0)\n",
    "        X = (X-mean) / std\n",
    "        X = self.add_X0(X)\n",
    "        return X, mean, std\n",
    "    \n",
    "    def normalize_traindata(self, X, mean, std):\n",
    "        X = (X-mean) / std\n",
    "        X = self.add_X0(X)\n",
    "        return X\n",
    "    \n",
    "    def fit(self):\n",
    "        trainX, testX, trainY, testY = self.data_split(self.X, self.target, self.test_split_ratio)\n",
    "        normalized_trainX, mean, std = self.normalize_testdata(trainX)\n",
    "        normalized_testX = self.normalize_traindata(testX, mean, std)\n",
    "        return normalized_trainX, normalized_testX, trainY, testY, mean, std\n",
    "        \n",
    "        \n",
    "        \n",
    "    \n",
    "        "
   ]
  },
  {
   "cell_type": "code",
   "execution_count": 167,
   "id": "07b97d3f",
   "metadata": {},
   "outputs": [],
   "source": [
    "class LinearRegression:\n",
    "    \n",
    "    def __init__(self, X, y, learning_rate, regularization_constant, \n",
    "                 solution_type='gd', regularization= False, max_iteration = 10000, tolerance=1e-8) -> None: \n",
    "        self.X = X\n",
    "        self.y = y\n",
    "        self.max_iteration = max_iteration\n",
    "        self.tolerance = tolerance\n",
    "        self.learning_rate = learning_rate\n",
    "        self.solution_type = solution_type\n",
    "        self.regularization = regularization\n",
    "        self.regularization_constant = regularization_constant\n",
    "    \n",
    "    # used to plot a line graph\n",
    "    def plot_rmse(self, error_sequence):\n",
    "        plt.figure(figsize=(12, 8), edgecolor = 'black', facecolor='white', layout='tight')\n",
    "        plt.title(\"Error over Iteration's\")\n",
    "        plt.xlabel(\"Iteration\")\n",
    "        plt.ylabel(\"Error\")\n",
    "        sns.lineplot(x=np.arange((np.array(error_sequence)).size), y = error_sequence)\n",
    "        plt.show()\n",
    "        \n",
    "    \n",
    "    #rank of a matrix\n",
    "    def rank(self, X):\n",
    "        left, sigma, right = np.linalg.svd(X)\n",
    "        return np.sum(sigma > 0.000001)\n",
    "    \n",
    "    def low_rank(self, X):\n",
    "        if(X.shape[0]<X.shape[1]):\n",
    "            return True\n",
    "        else:\n",
    "            return False\n",
    "    \n",
    "    def full_rank(self, X):\n",
    "        if min(X.shape) == self.rank(X):\n",
    "            return True\n",
    "        else:\n",
    "            return False\n",
    "    \n",
    "    #closed form solution for linear regression\n",
    "    def closed_room_solution_without_reg(self, X, y):\n",
    "        if self.full_rank(X) and not self.low_rank(X):\n",
    "            self.weights = np.matmul(np.linalg.inv(np.matmul(self.X.T,self.X)), np.matmul(self.X.T, self.y))\n",
    "            print(self.weights)\n",
    "        else:\n",
    "            print('Closed form solution not possible as it is not full rank')\n",
    "                                     \n",
    "    def closed_room_solution_with_reg(self, X, y, regularization_constant):\n",
    "        if self.full_rank(X) and not self.low_rank(X):\n",
    "            self.weights = np.matmul(np.linalg.inv(np.matmul(self.X.T,self.X) \n",
    "                                                   + self.regularization_constant * np.identity(self.X.shape[1])),\n",
    "                                     np.matmul(self.X.T, self.y))\n",
    "            print(self.weights)\n",
    "        else:\n",
    "            print('Closed form solution not possible as it is not full rank')\n",
    "    \n",
    "    def predict(self, X):\n",
    "        return X.dot(self.weights)   \n",
    "    \n",
    "    def sse(self, X, y):  \n",
    "        return ((self.predict(X) - y)**2).sum()\n",
    "    \n",
    "    def rmse(self, X, y):  \n",
    "        return np.sqrt(self.sse(X, y)/X.shape[0])\n",
    "    \n",
    "    def cost_function(self, X , y):\n",
    "        loss = self.sse(X, y)\n",
    "        return loss/2\n",
    "    \n",
    "    def cost_function_derivative(self, X, y):\n",
    "        y_hat = self.predict(X)\n",
    "        return np.matmul(X.T, (y_hat - y))\n",
    "    \n",
    "    #gradient decent for linear regression\n",
    "    def gradient_descent(self, X, y):\n",
    "        prev_error = float('inf')\n",
    "        error_loss = []\n",
    "        for iter in tqdm(range(1, self.max_iteration)):\n",
    "            self.weights -= self.learning_rate * self.cost_function_derivative(X, y)\n",
    "            loss = self.rmse(X, y)\n",
    "            error_loss.append(loss)\n",
    "            if abs(loss - prev_error) < self.tolerance:\n",
    "                print(\"Model stopped learning\")\n",
    "                break\n",
    "            prev_error = loss\n",
    "        print(self.weights)\n",
    "        self.plot_rmse(error_loss)\n",
    "        \n",
    "        \n",
    "    def gradient_descent_with_reg(self, X, y):\n",
    "        prev_error = float('inf')\n",
    "        error_loss = []\n",
    "        for iter in tqdm(range(1, self.max_iteration)):\n",
    "            self.weights -= self.learning_rate * (self.cost_function_derivative(X, y) + self.regularization_constant * self.weights)\n",
    "            loss = self.rmse(X, y)\n",
    "            error_loss.append(loss)\n",
    "            if abs(loss - prev_error) < self.tolerance:\n",
    "                print(\"Model stopped learning\")\n",
    "                break\n",
    "            prev_error = loss\n",
    "        print(self.weights)\n",
    "        self.plot_rmse(error_loss)\n",
    "           \n",
    "    def evaluation_metrics(self, mode, X=None, y=None):\n",
    "        if mode == \"train\":\n",
    "            print(\"Training metrics\")\n",
    "            y_hat = self.predict(self.X)\n",
    "            print(\"RMSE(training) -->\", ((((y_hat - self.y) ** 2).sum())/len(self.y))** 0.5)\n",
    "            print(\"SSE(training) -->\", ((y_hat - self.y) ** 2).sum())\n",
    "            print(\"\\n\")\n",
    "        elif (mode == 'test') and (X is not None) and (y is not None):\n",
    "            print(\"Test metrics\")\n",
    "            y_hat = self.predict(X)\n",
    "            print(\"RMSE(test) -->\", ((((y_hat - y) ** 2).sum())/len(y))** 0.5)\n",
    "            print(\"SSE(test) -->\", ((y_hat - y) ** 2).sum())    \n",
    "            print(\"\\n\")\n",
    "            \n",
    "    def fit(self):\n",
    "        if(self.solution_type == 'closed'):\n",
    "            if(self.regularization):\n",
    "                self.closed_room_solution_with_reg(self.X, self.y, self.regularization_constant)\n",
    "            else:\n",
    "                self.closed_room_solution_without_reg(self.X, self.y)\n",
    "        elif(self.solution_type == 'gd' or self.solution_type == 'sgd'):\n",
    "            self.weights = np.ones(self.X.shape[1])\n",
    "            if(self.regularization):\n",
    "                if (self.solution_type == 'sgd'):\n",
    "                    X_train, X_test, y_train, y_test = train_test_split(self.X, self.y, train_size=0.1)\n",
    "                    self.gradient_descent_with_reg(X_train, y_train)\n",
    "                else:\n",
    "                    self.gradient_descent_with_reg(self.X, self.y)\n",
    "            else:\n",
    "                if (self.solution_type == 'sgd'):\n",
    "                    X_train, X_test, y_train, y_test = train_test_split(self.X, self.y, train_size=0.1)\n",
    "                    self.gradient_descent(X_train, y_train)\n",
    "                else:\n",
    "                    self.gradient_descent(self.X, self.y)\n",
    "        \n",
    "            \n",
    "            \n",
    "   "
   ]
  },
  {
   "cell_type": "markdown",
   "id": "55f5dde6",
   "metadata": {},
   "source": [
    "# Housing Dataset\n"
   ]
  },
  {
   "cell_type": "code",
   "execution_count": 204,
   "id": "26563075",
   "metadata": {},
   "outputs": [
    {
     "data": {
      "text/html": [
       "<div>\n",
       "<style scoped>\n",
       "    .dataframe tbody tr th:only-of-type {\n",
       "        vertical-align: middle;\n",
       "    }\n",
       "\n",
       "    .dataframe tbody tr th {\n",
       "        vertical-align: top;\n",
       "    }\n",
       "\n",
       "    .dataframe thead th {\n",
       "        text-align: right;\n",
       "    }\n",
       "</style>\n",
       "<table border=\"1\" class=\"dataframe\">\n",
       "  <thead>\n",
       "    <tr style=\"text-align: right;\">\n",
       "      <th></th>\n",
       "      <th>0.00632</th>\n",
       "      <th>18</th>\n",
       "      <th>2.31</th>\n",
       "      <th>0</th>\n",
       "      <th>0.538</th>\n",
       "      <th>6.575</th>\n",
       "      <th>65.2</th>\n",
       "      <th>4.09</th>\n",
       "      <th>1</th>\n",
       "      <th>296</th>\n",
       "      <th>15.3</th>\n",
       "      <th>396.9</th>\n",
       "      <th>4.98</th>\n",
       "      <th>24</th>\n",
       "    </tr>\n",
       "  </thead>\n",
       "  <tbody>\n",
       "    <tr>\n",
       "      <th>0</th>\n",
       "      <td>0.02731</td>\n",
       "      <td>0.0</td>\n",
       "      <td>7.07</td>\n",
       "      <td>0</td>\n",
       "      <td>0.469</td>\n",
       "      <td>6.421</td>\n",
       "      <td>78.9</td>\n",
       "      <td>4.9671</td>\n",
       "      <td>2</td>\n",
       "      <td>242</td>\n",
       "      <td>17.8</td>\n",
       "      <td>396.90</td>\n",
       "      <td>9.14</td>\n",
       "      <td>21.6</td>\n",
       "    </tr>\n",
       "    <tr>\n",
       "      <th>1</th>\n",
       "      <td>0.02729</td>\n",
       "      <td>0.0</td>\n",
       "      <td>7.07</td>\n",
       "      <td>0</td>\n",
       "      <td>0.469</td>\n",
       "      <td>7.185</td>\n",
       "      <td>61.1</td>\n",
       "      <td>4.9671</td>\n",
       "      <td>2</td>\n",
       "      <td>242</td>\n",
       "      <td>17.8</td>\n",
       "      <td>392.83</td>\n",
       "      <td>4.03</td>\n",
       "      <td>34.7</td>\n",
       "    </tr>\n",
       "    <tr>\n",
       "      <th>2</th>\n",
       "      <td>0.03237</td>\n",
       "      <td>0.0</td>\n",
       "      <td>2.18</td>\n",
       "      <td>0</td>\n",
       "      <td>0.458</td>\n",
       "      <td>6.998</td>\n",
       "      <td>45.8</td>\n",
       "      <td>6.0622</td>\n",
       "      <td>3</td>\n",
       "      <td>222</td>\n",
       "      <td>18.7</td>\n",
       "      <td>394.63</td>\n",
       "      <td>2.94</td>\n",
       "      <td>33.4</td>\n",
       "    </tr>\n",
       "    <tr>\n",
       "      <th>3</th>\n",
       "      <td>0.06905</td>\n",
       "      <td>0.0</td>\n",
       "      <td>2.18</td>\n",
       "      <td>0</td>\n",
       "      <td>0.458</td>\n",
       "      <td>7.147</td>\n",
       "      <td>54.2</td>\n",
       "      <td>6.0622</td>\n",
       "      <td>3</td>\n",
       "      <td>222</td>\n",
       "      <td>18.7</td>\n",
       "      <td>396.90</td>\n",
       "      <td>5.33</td>\n",
       "      <td>36.2</td>\n",
       "    </tr>\n",
       "    <tr>\n",
       "      <th>4</th>\n",
       "      <td>0.02985</td>\n",
       "      <td>0.0</td>\n",
       "      <td>2.18</td>\n",
       "      <td>0</td>\n",
       "      <td>0.458</td>\n",
       "      <td>6.430</td>\n",
       "      <td>58.7</td>\n",
       "      <td>6.0622</td>\n",
       "      <td>3</td>\n",
       "      <td>222</td>\n",
       "      <td>18.7</td>\n",
       "      <td>394.12</td>\n",
       "      <td>5.21</td>\n",
       "      <td>28.7</td>\n",
       "    </tr>\n",
       "  </tbody>\n",
       "</table>\n",
       "</div>"
      ],
      "text/plain": [
       "   0.00632   18  2.31  0  0.538  6.575  65.2    4.09  1  296  15.3   396.9  \\\n",
       "0  0.02731  0.0  7.07  0  0.469  6.421  78.9  4.9671  2  242  17.8  396.90   \n",
       "1  0.02729  0.0  7.07  0  0.469  7.185  61.1  4.9671  2  242  17.8  392.83   \n",
       "2  0.03237  0.0  2.18  0  0.458  6.998  45.8  6.0622  3  222  18.7  394.63   \n",
       "3  0.06905  0.0  2.18  0  0.458  7.147  54.2  6.0622  3  222  18.7  396.90   \n",
       "4  0.02985  0.0  2.18  0  0.458  6.430  58.7  6.0622  3  222  18.7  394.12   \n",
       "\n",
       "   4.98    24  \n",
       "0  9.14  21.6  \n",
       "1  4.03  34.7  \n",
       "2  2.94  33.4  \n",
       "3  5.33  36.2  \n",
       "4  5.21  28.7  "
      ]
     },
     "execution_count": 204,
     "metadata": {},
     "output_type": "execute_result"
    }
   ],
   "source": [
    "house = pd.read_csv(\"/Users/praneithranganath/Downloads/housing.csv\")\n",
    "house.head()"
   ]
  },
  {
   "cell_type": "code",
   "execution_count": 205,
   "id": "26c2e3aa",
   "metadata": {},
   "outputs": [],
   "source": [
    "d1 = DataPrep(house, '24', 0.25)"
   ]
  },
  {
   "cell_type": "code",
   "execution_count": 206,
   "id": "0e1d8959",
   "metadata": {},
   "outputs": [],
   "source": [
    "train_X, test_X, train_Y, test_Y, mean, std = d1.fit()"
   ]
  },
  {
   "cell_type": "markdown",
   "id": "2f248b7e",
   "metadata": {},
   "source": [
    "Closed form "
   ]
  },
  {
   "cell_type": "code",
   "execution_count": 213,
   "id": "8a789914",
   "metadata": {},
   "outputs": [
    {
     "name": "stdout",
     "output_type": "stream",
     "text": [
      "[22.57852988 -0.72268729  0.87398689 -0.14639509  0.69459073 -1.08870653\n",
      "  3.58452575 -0.68438797 -2.59059746  1.9607501  -1.86673574 -1.91268172\n",
      "  0.83123091 -2.72786557]\n"
     ]
    }
   ],
   "source": [
    "l1 = LinearRegression(train_X, train_Y, 0.1 * 1e-2, 0.2, \"closed\", regularization=True)\n",
    "l1.fit()"
   ]
  },
  {
   "cell_type": "code",
   "execution_count": 214,
   "id": "1892ab51",
   "metadata": {},
   "outputs": [
    {
     "name": "stdout",
     "output_type": "stream",
     "text": [
      "Training metrics\n",
      "RMSE(training) --> 4.159631887389976\n",
      "SSE(training) --> 6540.359151787585\n",
      "\n",
      "\n"
     ]
    }
   ],
   "source": [
    "l1.evaluation_metrics(mode ='train')"
   ]
  },
  {
   "cell_type": "code",
   "execution_count": 215,
   "id": "b48e042a",
   "metadata": {},
   "outputs": [
    {
     "name": "stdout",
     "output_type": "stream",
     "text": [
      "Test metrics\n",
      "RMSE(test) --> 6.220060128100889\n",
      "SSE(test) --> 4913.521795643188\n",
      "\n",
      "\n"
     ]
    }
   ],
   "source": [
    "l1.evaluation_metrics(mode ='test', X=test_X, y=test_Y)"
   ]
  },
  {
   "cell_type": "markdown",
   "id": "d5cb0b40",
   "metadata": {},
   "source": [
    "Gradient Descent"
   ]
  },
  {
   "cell_type": "code",
   "execution_count": 216,
   "id": "b3cc2be1",
   "metadata": {},
   "outputs": [
    {
     "name": "stderr",
     "output_type": "stream",
     "text": [
      "  0%|                                       | 31/9999 [00:00<00:05, 1961.37it/s]"
     ]
    },
    {
     "name": "stdout",
     "output_type": "stream",
     "text": [
      "Model stopped learning\n",
      "[22.47612722 -0.42852285  0.45007865 -0.32194136  0.76710194 -0.36050268\n",
      "  4.01209009 -0.47047431 -1.44914164  0.64871527 -0.78973085 -1.77145294\n",
      "  0.88518499 -2.59888115]\n"
     ]
    },
    {
     "name": "stderr",
     "output_type": "stream",
     "text": [
      "\n"
     ]
    },
    {
     "data": {
      "image/png": "[encoded data removed]",
      "text/plain": [
       "<Figure size 864x576 with 1 Axes>"
      ]
     },
     "metadata": {},
     "output_type": "display_data"
    }
   ],
   "source": [
    "l2 = LinearRegression(train_X, train_Y, 0.4 * 1e-3, 0.01, \"gd\", regularization = True, tolerance = 0.5 * 1e-2)\n",
    "l2.fit()"
   ]
  },
  {
   "cell_type": "code",
   "execution_count": 217,
   "id": "7399395d",
   "metadata": {},
   "outputs": [
    {
     "name": "stdout",
     "output_type": "stream",
     "text": [
      "Training metrics\n",
      "RMSE(training) --> 4.238205811494615\n",
      "SSE(training) --> 6789.7828532217845\n",
      "\n",
      "\n"
     ]
    }
   ],
   "source": [
    "l2.evaluation_metrics(mode ='train')"
   ]
  },
  {
   "cell_type": "code",
   "execution_count": 218,
   "id": "f5285d15",
   "metadata": {},
   "outputs": [
    {
     "name": "stdout",
     "output_type": "stream",
     "text": [
      "Test metrics\n",
      "RMSE(test) --> 6.5144637404969\n",
      "SSE(test) --> 5389.656203933606\n",
      "\n",
      "\n"
     ]
    }
   ],
   "source": [
    "l2.evaluation_metrics(mode ='test', X=test_X, y=test_Y)"
   ]
  },
  {
   "cell_type": "markdown",
   "id": "a54edf0c",
   "metadata": {},
   "source": [
    "Decreasing the learning rate from above we can observe that the jump size between each iteration is reduced thus increasing the number of iterations."
   ]
  },
  {
   "cell_type": "code",
   "execution_count": 219,
   "id": "78b9e4e0",
   "metadata": {
    "scrolled": true
   },
   "outputs": [
    {
     "name": "stderr",
     "output_type": "stream",
     "text": [
      " 10%|███▉                                 | 1049/9999 [00:00<00:01, 5502.09it/s]\n"
     ]
    },
    {
     "name": "stdout",
     "output_type": "stream",
     "text": [
      "Model stopped learning\n",
      "[18.18205468 -0.34264222  0.76287028 -0.21572825  0.98573132  0.06063249\n",
      "  3.93538663  0.0369481  -0.1106615   0.10834608 -0.58352739 -1.35261788\n",
      "  1.18285885 -1.95130076]\n"
     ]
    },
    {
     "data": {
      "image/png": "[encoded data removed]",
      "text/plain": [
       "<Figure size 864x576 with 1 Axes>"
      ]
     },
     "metadata": {},
     "output_type": "display_data"
    }
   ],
   "source": [
    "l22 = LinearRegression(train_X, train_Y, 0.004 * 1e-3, 0.01, \"gd\", regularization = True, tolerance = 0.5 * 1e-2)\n",
    "l22.fit()"
   ]
  },
  {
   "cell_type": "markdown",
   "id": "07054e73",
   "metadata": {},
   "source": [
    "Stochastic GD"
   ]
  },
  {
   "cell_type": "code",
   "execution_count": 178,
   "id": "d4a70a8e",
   "metadata": {
    "scrolled": true
   },
   "outputs": [
    {
     "name": "stderr",
     "output_type": "stream",
     "text": [
      "  2%|▉                                     | 243/9999 [00:00<00:02, 3842.62it/s]"
     ]
    },
    {
     "name": "stdout",
     "output_type": "stream",
     "text": [
      "Model stopped learning\n",
      "[20.44305535 -1.24619283 -1.38435879 -0.81921545  0.03480066  0.51454294\n",
      "  3.36039364 -0.68793208  0.30301777 -0.90908717  0.41037851 -0.69006831\n",
      "  1.46794373 -2.15164736]\n"
     ]
    },
    {
     "name": "stderr",
     "output_type": "stream",
     "text": [
      "\n"
     ]
    },
    {
     "data": {
      "image/png": "[encoded data removed]",
      "text/plain": [
       "<Figure size 864x576 with 1 Axes>"
      ]
     },
     "metadata": {},
     "output_type": "display_data"
    }
   ],
   "source": [
    "l3 = LinearRegression(train_X, train_Y, 0.4 * 1e-3, 0.01, \"sgd\", regularization = True, tolerance = 0.5 * 1e-2)\n",
    "l3.fit()"
   ]
  },
  {
   "cell_type": "code",
   "execution_count": 179,
   "id": "9741e78f",
   "metadata": {},
   "outputs": [
    {
     "name": "stdout",
     "output_type": "stream",
     "text": [
      "Training metrics\n",
      "RMSE(training) --> 6.181452614614401\n",
      "SSE(training) --> 14443.514729301376\n",
      "\n",
      "\n"
     ]
    }
   ],
   "source": [
    "l3.evaluation_metrics(mode ='train')"
   ]
  },
  {
   "cell_type": "code",
   "execution_count": 180,
   "id": "42202e6f",
   "metadata": {},
   "outputs": [
    {
     "name": "stdout",
     "output_type": "stream",
     "text": [
      "Test metrics\n",
      "RMSE(test) --> 5.622040636547339\n",
      "SSE(test) --> 4014.1322967116807\n",
      "\n",
      "\n"
     ]
    }
   ],
   "source": [
    "l3.evaluation_metrics(mode ='test', X=test_X, y=test_Y)"
   ]
  },
  {
   "cell_type": "code",
   "execution_count": 181,
   "id": "1ce8623c",
   "metadata": {},
   "outputs": [
    {
     "name": "stderr",
     "output_type": "stream",
     "text": [
      "  1%|▎                                      | 70/9999 [00:00<00:04, 2410.46it/s]"
     ]
    },
    {
     "name": "stdout",
     "output_type": "stream",
     "text": [
      "Model stopped learning\n",
      "[ 5.80050882 -0.26251971  0.34580396 -0.4274781   0.48429017 -0.83759437\n",
      "  0.76405425 -0.24004573  0.63067222 -0.0085986  -0.48361745  0.2394745\n",
      "  0.32245115 -0.41654342]\n"
     ]
    },
    {
     "name": "stderr",
     "output_type": "stream",
     "text": [
      "\n"
     ]
    },
    {
     "data": {
      "image/png": "[encoded data removed]",
      "text/plain": [
       "<Figure size 864x576 with 1 Axes>"
      ]
     },
     "metadata": {},
     "output_type": "display_data"
    }
   ],
   "source": [
    "l33 = LinearRegression(train_X, train_Y, 0.4 * 1e-3, 100, \"sgd\", regularization = True, tolerance = 0.5 * 1e-2)\n",
    "l33.fit()"
   ]
  },
  {
   "cell_type": "markdown",
   "id": "e2008e5f",
   "metadata": {},
   "source": [
    "From l3 and l33 it is evident that increase in regularization parametere penalizes increase in weights therby reducing the weights as shown above."
   ]
  },
  {
   "cell_type": "markdown",
   "id": "526abb80",
   "metadata": {},
   "source": [
    "# Yacht Dataset\n"
   ]
  },
  {
   "cell_type": "code",
   "execution_count": 182,
   "id": "e2ee8ded",
   "metadata": {},
   "outputs": [
    {
     "data": {
      "text/html": [
       "<div>\n",
       "<style scoped>\n",
       "    .dataframe tbody tr th:only-of-type {\n",
       "        vertical-align: middle;\n",
       "    }\n",
       "\n",
       "    .dataframe tbody tr th {\n",
       "        vertical-align: top;\n",
       "    }\n",
       "\n",
       "    .dataframe thead th {\n",
       "        text-align: right;\n",
       "    }\n",
       "</style>\n",
       "<table border=\"1\" class=\"dataframe\">\n",
       "  <thead>\n",
       "    <tr style=\"text-align: right;\">\n",
       "      <th></th>\n",
       "      <th>-2.3</th>\n",
       "      <th>0.568</th>\n",
       "      <th>4.78</th>\n",
       "      <th>3.99</th>\n",
       "      <th>3.17</th>\n",
       "      <th>0.125</th>\n",
       "      <th>0.11</th>\n",
       "    </tr>\n",
       "  </thead>\n",
       "  <tbody>\n",
       "    <tr>\n",
       "      <th>0</th>\n",
       "      <td>-2.3</td>\n",
       "      <td>0.568</td>\n",
       "      <td>4.78</td>\n",
       "      <td>3.99</td>\n",
       "      <td>3.17</td>\n",
       "      <td>0.150</td>\n",
       "      <td>0.27</td>\n",
       "    </tr>\n",
       "    <tr>\n",
       "      <th>1</th>\n",
       "      <td>-2.3</td>\n",
       "      <td>0.568</td>\n",
       "      <td>4.78</td>\n",
       "      <td>3.99</td>\n",
       "      <td>3.17</td>\n",
       "      <td>0.175</td>\n",
       "      <td>0.47</td>\n",
       "    </tr>\n",
       "    <tr>\n",
       "      <th>2</th>\n",
       "      <td>-2.3</td>\n",
       "      <td>0.568</td>\n",
       "      <td>4.78</td>\n",
       "      <td>3.99</td>\n",
       "      <td>3.17</td>\n",
       "      <td>0.200</td>\n",
       "      <td>0.78</td>\n",
       "    </tr>\n",
       "    <tr>\n",
       "      <th>3</th>\n",
       "      <td>-2.3</td>\n",
       "      <td>0.568</td>\n",
       "      <td>4.78</td>\n",
       "      <td>3.99</td>\n",
       "      <td>3.17</td>\n",
       "      <td>0.225</td>\n",
       "      <td>1.18</td>\n",
       "    </tr>\n",
       "    <tr>\n",
       "      <th>4</th>\n",
       "      <td>-2.3</td>\n",
       "      <td>0.568</td>\n",
       "      <td>4.78</td>\n",
       "      <td>3.99</td>\n",
       "      <td>3.17</td>\n",
       "      <td>0.250</td>\n",
       "      <td>1.82</td>\n",
       "    </tr>\n",
       "  </tbody>\n",
       "</table>\n",
       "</div>"
      ],
      "text/plain": [
       "   -2.3  0.568  4.78  3.99  3.17  0.125  0.11\n",
       "0  -2.3  0.568  4.78  3.99  3.17  0.150  0.27\n",
       "1  -2.3  0.568  4.78  3.99  3.17  0.175  0.47\n",
       "2  -2.3  0.568  4.78  3.99  3.17  0.200  0.78\n",
       "3  -2.3  0.568  4.78  3.99  3.17  0.225  1.18\n",
       "4  -2.3  0.568  4.78  3.99  3.17  0.250  1.82"
      ]
     },
     "execution_count": 182,
     "metadata": {},
     "output_type": "execute_result"
    }
   ],
   "source": [
    "yacht = pd.read_csv(\"/Users/praneithranganath/Downloads/yachtData.csv\")\n",
    "yacht.head()"
   ]
  },
  {
   "cell_type": "code",
   "execution_count": 183,
   "id": "75a5cfba",
   "metadata": {},
   "outputs": [],
   "source": [
    "d2 = DataPrep(yacht, '0.11', 0.25)"
   ]
  },
  {
   "cell_type": "code",
   "execution_count": 184,
   "id": "585a13f5",
   "metadata": {},
   "outputs": [],
   "source": [
    "train_X, test_X, train_Y, test_Y, mean, std = d2.fit()"
   ]
  },
  {
   "cell_type": "markdown",
   "id": "532e46e6",
   "metadata": {},
   "source": [
    "Closed form"
   ]
  },
  {
   "cell_type": "code",
   "execution_count": 185,
   "id": "36b0dca6",
   "metadata": {},
   "outputs": [
    {
     "name": "stdout",
     "output_type": "stream",
     "text": [
      "[10.39165217  0.2496269   0.03394441  3.64779285 -2.15942029 -3.43111857\n",
      " 12.04633782]\n"
     ]
    }
   ],
   "source": [
    "l7 = LinearRegression(train_X, train_Y, 0.1 * 1e-2, 0.01, \"closed\")\n",
    "l7.fit()"
   ]
  },
  {
   "cell_type": "code",
   "execution_count": 186,
   "id": "14d6c4d6",
   "metadata": {},
   "outputs": [
    {
     "name": "stdout",
     "output_type": "stream",
     "text": [
      "Training metrics\n",
      "RMSE(training) --> 8.569856202150026\n",
      "SSE(training) --> 16891.76012487173\n",
      "\n",
      "\n"
     ]
    }
   ],
   "source": [
    "l7.evaluation_metrics(mode ='train')"
   ]
  },
  {
   "cell_type": "code",
   "execution_count": 187,
   "id": "bd328345",
   "metadata": {},
   "outputs": [
    {
     "name": "stdout",
     "output_type": "stream",
     "text": [
      "Test metrics\n",
      "RMSE(test) --> 9.806213845376552\n",
      "SSE(test) --> 7404.460908556618\n",
      "\n",
      "\n"
     ]
    }
   ],
   "source": [
    "l7.evaluation_metrics(mode ='test', X=test_X, y=test_Y)"
   ]
  },
  {
   "cell_type": "markdown",
   "id": "e17f1eb8",
   "metadata": {},
   "source": [
    "Gradient Descent"
   ]
  },
  {
   "cell_type": "code",
   "execution_count": 188,
   "id": "aaaa669e",
   "metadata": {},
   "outputs": [
    {
     "name": "stderr",
     "output_type": "stream",
     "text": [
      "  2%|▋                                     | 189/9999 [00:00<00:02, 3911.01it/s]"
     ]
    },
    {
     "name": "stdout",
     "output_type": "stream",
     "text": [
      "Model stopped learning\n",
      "[10.27832383  0.22455785 -0.78290108  0.19866444  0.45198527 -0.07095365\n",
      " 11.88558927]\n"
     ]
    },
    {
     "name": "stderr",
     "output_type": "stream",
     "text": [
      "\n"
     ]
    },
    {
     "data": {
      "image/png": "[encoded data removed]",
      "text/plain": [
       "<Figure size 864x576 with 1 Axes>"
      ]
     },
     "metadata": {},
     "output_type": "display_data"
    }
   ],
   "source": [
    "l4 = LinearRegression(train_X, train_Y, 0.01 * 1e-2, 0.01, \"gd\", regularization = True, tolerance = 0.01 * 1e-2)\n",
    "l4.fit()"
   ]
  },
  {
   "cell_type": "code",
   "execution_count": 189,
   "id": "aa282387",
   "metadata": {},
   "outputs": [
    {
     "name": "stdout",
     "output_type": "stream",
     "text": [
      "Training metrics\n",
      "RMSE(training) --> 8.583421607715815\n",
      "SSE(training) --> 16945.27909403463\n",
      "\n",
      "\n"
     ]
    }
   ],
   "source": [
    "l4.evaluation_metrics(mode ='train')"
   ]
  },
  {
   "cell_type": "code",
   "execution_count": 190,
   "id": "b0ebef75",
   "metadata": {},
   "outputs": [
    {
     "name": "stdout",
     "output_type": "stream",
     "text": [
      "Test metrics\n",
      "RMSE(test) --> 9.76622762839021\n",
      "SSE(test) --> 7344.198560893984\n",
      "\n",
      "\n"
     ]
    }
   ],
   "source": [
    "l4.evaluation_metrics(mode ='test', X=test_X, y=test_Y)"
   ]
  },
  {
   "cell_type": "markdown",
   "id": "d469ddbf",
   "metadata": {},
   "source": [
    "Stochastic GD"
   ]
  },
  {
   "cell_type": "code",
   "execution_count": 191,
   "id": "2ca52465",
   "metadata": {},
   "outputs": [
    {
     "name": "stderr",
     "output_type": "stream",
     "text": [
      " 17%|██████                               | 1651/9999 [00:00<00:01, 5697.20it/s]\n"
     ]
    },
    {
     "name": "stdout",
     "output_type": "stream",
     "text": [
      "Model stopped learning\n",
      "[12.36815172 -0.24632883 -2.99534933 -0.11069734  0.16456723 -1.10667953\n",
      " 13.13703872]\n"
     ]
    },
    {
     "data": {
      "image/png": "[encoded data removed]",
      "text/plain": [
       "<Figure size 864x576 with 1 Axes>"
      ]
     },
     "metadata": {},
     "output_type": "display_data"
    }
   ],
   "source": [
    "l5 = LinearRegression(train_X, train_Y, 0.01 * 1e-2, 0.01, \"sgd\", regularization = True, tolerance = 0.01 * 1e-2)\n",
    "l5.fit()"
   ]
  },
  {
   "cell_type": "code",
   "execution_count": 192,
   "id": "710f1727",
   "metadata": {},
   "outputs": [
    {
     "name": "stdout",
     "output_type": "stream",
     "text": [
      "Training metrics\n",
      "RMSE(training) --> 9.22002116074832\n",
      "SSE(training) --> 19552.021747068764\n",
      "\n",
      "\n"
     ]
    }
   ],
   "source": [
    "l5.evaluation_metrics(mode ='train')"
   ]
  },
  {
   "cell_type": "code",
   "execution_count": 193,
   "id": "4de4fef0",
   "metadata": {},
   "outputs": [
    {
     "name": "stdout",
     "output_type": "stream",
     "text": [
      "Test metrics\n",
      "RMSE(test) --> 10.308248337832103\n",
      "SSE(test) --> 8182.01875217021\n",
      "\n",
      "\n"
     ]
    }
   ],
   "source": [
    "l5.evaluation_metrics(mode ='test', X=test_X, y=test_Y)"
   ]
  },
  {
   "cell_type": "markdown",
   "id": "4734bd66",
   "metadata": {},
   "source": [
    "# Concrete dataset\n"
   ]
  },
  {
   "cell_type": "code",
   "execution_count": 194,
   "id": "fe63797d",
   "metadata": {},
   "outputs": [
    {
     "data": {
      "text/html": [
       "<div>\n",
       "<style scoped>\n",
       "    .dataframe tbody tr th:only-of-type {\n",
       "        vertical-align: middle;\n",
       "    }\n",
       "\n",
       "    .dataframe tbody tr th {\n",
       "        vertical-align: top;\n",
       "    }\n",
       "\n",
       "    .dataframe thead th {\n",
       "        text-align: right;\n",
       "    }\n",
       "</style>\n",
       "<table border=\"1\" class=\"dataframe\">\n",
       "  <thead>\n",
       "    <tr style=\"text-align: right;\">\n",
       "      <th></th>\n",
       "      <th>540</th>\n",
       "      <th>0</th>\n",
       "      <th>0.1</th>\n",
       "      <th>162</th>\n",
       "      <th>2.5</th>\n",
       "      <th>1040</th>\n",
       "      <th>676</th>\n",
       "      <th>28</th>\n",
       "      <th>79.99</th>\n",
       "    </tr>\n",
       "  </thead>\n",
       "  <tbody>\n",
       "    <tr>\n",
       "      <th>0</th>\n",
       "      <td>540.0</td>\n",
       "      <td>0.0</td>\n",
       "      <td>0.0</td>\n",
       "      <td>162.0</td>\n",
       "      <td>2.5</td>\n",
       "      <td>1055.0</td>\n",
       "      <td>676.0</td>\n",
       "      <td>28</td>\n",
       "      <td>61.89</td>\n",
       "    </tr>\n",
       "    <tr>\n",
       "      <th>1</th>\n",
       "      <td>332.5</td>\n",
       "      <td>142.5</td>\n",
       "      <td>0.0</td>\n",
       "      <td>228.0</td>\n",
       "      <td>0.0</td>\n",
       "      <td>932.0</td>\n",
       "      <td>594.0</td>\n",
       "      <td>270</td>\n",
       "      <td>40.27</td>\n",
       "    </tr>\n",
       "    <tr>\n",
       "      <th>2</th>\n",
       "      <td>332.5</td>\n",
       "      <td>142.5</td>\n",
       "      <td>0.0</td>\n",
       "      <td>228.0</td>\n",
       "      <td>0.0</td>\n",
       "      <td>932.0</td>\n",
       "      <td>594.0</td>\n",
       "      <td>365</td>\n",
       "      <td>41.05</td>\n",
       "    </tr>\n",
       "    <tr>\n",
       "      <th>3</th>\n",
       "      <td>198.6</td>\n",
       "      <td>132.4</td>\n",
       "      <td>0.0</td>\n",
       "      <td>192.0</td>\n",
       "      <td>0.0</td>\n",
       "      <td>978.4</td>\n",
       "      <td>825.5</td>\n",
       "      <td>360</td>\n",
       "      <td>44.30</td>\n",
       "    </tr>\n",
       "    <tr>\n",
       "      <th>4</th>\n",
       "      <td>266.0</td>\n",
       "      <td>114.0</td>\n",
       "      <td>0.0</td>\n",
       "      <td>228.0</td>\n",
       "      <td>0.0</td>\n",
       "      <td>932.0</td>\n",
       "      <td>670.0</td>\n",
       "      <td>90</td>\n",
       "      <td>47.03</td>\n",
       "    </tr>\n",
       "  </tbody>\n",
       "</table>\n",
       "</div>"
      ],
      "text/plain": [
       "     540      0  0.1    162  2.5    1040    676   28  79.99\n",
       "0  540.0    0.0  0.0  162.0  2.5  1055.0  676.0   28  61.89\n",
       "1  332.5  142.5  0.0  228.0  0.0   932.0  594.0  270  40.27\n",
       "2  332.5  142.5  0.0  228.0  0.0   932.0  594.0  365  41.05\n",
       "3  198.6  132.4  0.0  192.0  0.0   978.4  825.5  360  44.30\n",
       "4  266.0  114.0  0.0  228.0  0.0   932.0  670.0   90  47.03"
      ]
     },
     "execution_count": 194,
     "metadata": {},
     "output_type": "execute_result"
    }
   ],
   "source": [
    "concrete = pd.read_csv(\"/Users/praneithranganath/Downloads/concreteData.csv\")\n",
    "concrete.head()"
   ]
  },
  {
   "cell_type": "code",
   "execution_count": 195,
   "id": "4d417d0e",
   "metadata": {},
   "outputs": [],
   "source": [
    "d3 = DataPrep(concrete, '79.99', 0.25)"
   ]
  },
  {
   "cell_type": "code",
   "execution_count": 196,
   "id": "99c63e30",
   "metadata": {},
   "outputs": [],
   "source": [
    "train_X, test_X, train_Y, test_Y, mean, std = d3.fit()"
   ]
  },
  {
   "cell_type": "markdown",
   "id": "f2c370c8",
   "metadata": {},
   "source": [
    "Closed Form"
   ]
  },
  {
   "cell_type": "code",
   "execution_count": 197,
   "id": "8bea74a3",
   "metadata": {},
   "outputs": [
    {
     "name": "stdout",
     "output_type": "stream",
     "text": [
      "[35.74150454 12.80299794  8.95932582  5.80101174 -3.31265169  1.37626128\n",
      "  1.42344051  1.57479876  7.41973173]\n"
     ]
    }
   ],
   "source": [
    "l10 = LinearRegression(train_X, train_Y, 0.1 * 1e-2, 0.01, \"closed\")\n",
    "l10.fit()"
   ]
  },
  {
   "cell_type": "markdown",
   "id": "08e76650",
   "metadata": {},
   "source": [
    "Gradient Descent"
   ]
  },
  {
   "cell_type": "code",
   "execution_count": 198,
   "id": "a773ab84",
   "metadata": {
    "scrolled": true
   },
   "outputs": [
    {
     "name": "stderr",
     "output_type": "stream",
     "text": [
      "  1%|▍                                     | 115/9999 [00:00<00:02, 3562.79it/s]"
     ]
    },
    {
     "name": "stdout",
     "output_type": "stream",
     "text": [
      "Model stopped learning\n",
      "[35.74104097 12.1675386   8.35030401  5.25419515 -3.83621166  1.32511627\n",
      "  0.95241266  0.97239434  7.39259636]\n"
     ]
    },
    {
     "name": "stderr",
     "output_type": "stream",
     "text": [
      "\n"
     ]
    },
    {
     "data": {
      "image/png": "[encoded data removed]",
      "text/plain": [
       "<Figure size 864x576 with 1 Axes>"
      ]
     },
     "metadata": {},
     "output_type": "display_data"
    }
   ],
   "source": [
    "l8 = LinearRegression(train_X, train_Y, 0.7 * 1e-3, 0.01, \"gd\", regularization = True, tolerance = 0.1 * 1e-3)\n",
    "l8.fit()"
   ]
  },
  {
   "cell_type": "code",
   "execution_count": 199,
   "id": "bcfa7314",
   "metadata": {},
   "outputs": [
    {
     "name": "stdout",
     "output_type": "stream",
     "text": [
      "Training metrics\n",
      "RMSE(training) --> 10.343710456402741\n",
      "SSE(training) --> 82491.09877054534\n",
      "\n",
      "\n"
     ]
    }
   ],
   "source": [
    "l8.evaluation_metrics(mode ='train')"
   ]
  },
  {
   "cell_type": "code",
   "execution_count": 200,
   "id": "b70ea31c",
   "metadata": {},
   "outputs": [
    {
     "name": "stdout",
     "output_type": "stream",
     "text": [
      "Test metrics\n",
      "RMSE(test) --> 10.327593006215176\n",
      "SSE(test) --> 27518.06774392235\n",
      "\n",
      "\n"
     ]
    }
   ],
   "source": [
    "l8.evaluation_metrics(mode ='test', X=test_X, y=test_Y)"
   ]
  },
  {
   "cell_type": "markdown",
   "id": "0a6dc161",
   "metadata": {},
   "source": [
    "Stochastic GD"
   ]
  },
  {
   "cell_type": "code",
   "execution_count": 201,
   "id": "7cb023be",
   "metadata": {
    "scrolled": true
   },
   "outputs": [
    {
     "name": "stderr",
     "output_type": "stream",
     "text": [
      "  8%|███                                   | 790/9999 [00:00<00:01, 5197.13it/s]\n"
     ]
    },
    {
     "name": "stdout",
     "output_type": "stream",
     "text": [
      "Model stopped learning\n",
      "[33.08288796 12.42984917  8.03749847  6.18323523 -0.98248772  2.65200617\n",
      "  2.5343861   1.56576106  6.87093836]\n"
     ]
    },
    {
     "data": {
      "image/png": "[encoded data removed]",
      "text/plain": [
       "<Figure size 864x576 with 1 Axes>"
      ]
     },
     "metadata": {},
     "output_type": "display_data"
    }
   ],
   "source": [
    "l9 = LinearRegression(train_X, train_Y, 0.7 * 1e-3, 0.01, \"sgd\", regularization = True, tolerance = 0.1 * 1e-3)\n",
    "l9.fit()"
   ]
  },
  {
   "cell_type": "code",
   "execution_count": 202,
   "id": "c447e9f6",
   "metadata": {},
   "outputs": [
    {
     "name": "stdout",
     "output_type": "stream",
     "text": [
      "Training metrics\n",
      "RMSE(training) --> 10.857503114577352\n",
      "SSE(training) --> 90889.62326383687\n",
      "\n",
      "\n"
     ]
    }
   ],
   "source": [
    "l9.evaluation_metrics(mode ='train')"
   ]
  },
  {
   "cell_type": "code",
   "execution_count": 203,
   "id": "d45f9d7b",
   "metadata": {},
   "outputs": [
    {
     "name": "stdout",
     "output_type": "stream",
     "text": [
      "Test metrics\n",
      "RMSE(test) --> 11.114295325582136\n",
      "SSE(test) --> 31870.11063073828\n",
      "\n",
      "\n"
     ]
    }
   ],
   "source": [
    "l9.evaluation_metrics(mode ='test', X=test_X, y=test_Y)"
   ]
  }
 ],
 "metadata": {
  "kernelspec": {
   "display_name": "Python 3 (ipykernel)",
   "language": "python",
   "name": "python3"
  },
  "language_info": {
   "codemirror_mode": {
    "name": "ipython",
    "version": 3
   },
   "file_extension": ".py",
   "mimetype": "text/x-python",
   "name": "python",
   "nbconvert_exporter": "python",
   "pygments_lexer": "ipython3",
   "version": "3.9.12"
  }
 },
 "nbformat": 4,
 "nbformat_minor": 5
}
