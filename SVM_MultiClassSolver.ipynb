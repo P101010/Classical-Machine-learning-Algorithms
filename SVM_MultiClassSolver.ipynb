{
 "cells": [
  {
   "cell_type": "code",
   "execution_count": 163,
   "id": "3a514301",
   "metadata": {},
   "outputs": [
    {
     "name": "stdout",
     "output_type": "stream",
     "text": [
      "Requirement already satisfied: imblearn in /Users/praneithranganath/opt/anaconda3/lib/python3.9/site-packages (0.0)\r\n",
      "Requirement already satisfied: imbalanced-learn in /Users/praneithranganath/opt/anaconda3/lib/python3.9/site-packages (from imblearn) (0.12.2)\r\n",
      "Requirement already satisfied: numpy>=1.17.3 in /Users/praneithranganath/opt/anaconda3/lib/python3.9/site-packages (from imbalanced-learn->imblearn) (1.21.5)\r\n",
      "Requirement already satisfied: scipy>=1.5.0 in /Users/praneithranganath/opt/anaconda3/lib/python3.9/site-packages (from imbalanced-learn->imblearn) (1.7.3)\r\n",
      "Requirement already satisfied: scikit-learn>=1.0.2 in /Users/praneithranganath/opt/anaconda3/lib/python3.9/site-packages (from imbalanced-learn->imblearn) (1.4.2)\r\n",
      "Requirement already satisfied: joblib>=1.1.1 in /Users/praneithranganath/opt/anaconda3/lib/python3.9/site-packages (from imbalanced-learn->imblearn) (1.4.0)\r\n",
      "Requirement already satisfied: threadpoolctl>=2.0.0 in /Users/praneithranganath/opt/anaconda3/lib/python3.9/site-packages (from imbalanced-learn->imblearn) (2.2.0)\r\n"
     ]
    }
   ],
   "source": [
    "!pip install imblearn"
   ]
  },
  {
   "cell_type": "code",
   "execution_count": 197,
   "id": "8bf51885",
   "metadata": {},
   "outputs": [],
   "source": [
    "import copy\n",
    "import numpy as np\n",
    "import pandas as pd\n",
    "import seaborn as sns\n",
    "import matplotlib.pyplot as plt\n",
    "from sklearn import datasets\n",
    "from sklearn.model_selection import train_test_split\n",
    "from sklearn.metrics import accuracy_score, f1_score\n",
    "from sklearn.metrics import precision_score, recall_score\n",
    "from sklearn.metrics import classification_report, confusion_matrix\n",
    "from sklearn.model_selection import train_test_split\n",
    "from imblearn.over_sampling import SMOTE\n",
    "from tqdm import tqdm"
   ]
  },
  {
   "cell_type": "code",
   "execution_count": 198,
   "id": "6bfeb2e0",
   "metadata": {},
   "outputs": [],
   "source": [
    "from ucimlrepo import fetch_ucirepo \n",
    "  \n",
    "# fetch dataset \n",
    "room_occupancy_estimation = fetch_ucirepo(id=864) "
   ]
  },
  {
   "cell_type": "code",
   "execution_count": 268,
   "id": "ac72979b",
   "metadata": {},
   "outputs": [],
   "source": [
    "# Baseline\n",
    "\n",
    "class BaselineClassifier():\n",
    "    def __init__(self, X, y):\n",
    "        self.X = X\n",
    "        self.y = y\n",
    "        \n",
    "    def predict(self):\n",
    "        return np.random.randint(0, len(np.unique(self.y)) , size=len(self.X))\n",
    "    \n",
    "    "
   ]
  },
  {
   "cell_type": "code",
   "execution_count": 313,
   "id": "46e0554f",
   "metadata": {},
   "outputs": [],
   "source": [
    "# SVM Solver\n",
    "\n",
    "class SVM:\n",
    "    \n",
    "    def __init__(self, learning_rate = 0.00001, lambda_ = 0.001, max_iterations = 100, normalize = True):\n",
    "        self.normalize = normalize\n",
    "        self.learning_rate = learning_rate\n",
    "        self.lambda_ = lambda_\n",
    "        self.max_iterations = max_iterations\n",
    "     \n",
    "    def add_X0(self, X):\n",
    "        return np.column_stack((np.ones(X.shape[0]), X))\n",
    "    \n",
    "    def normalize_testdata(self, X):\n",
    "        self.mean = np.mean(X, axis=0)\n",
    "        self.std = np.std(X, axis=0)\n",
    "        X = (X-self.mean) / self.std\n",
    "        X = self.add_X0(X)\n",
    "        return X\n",
    "    \n",
    "    def normalize_traindata(self, X):\n",
    "        X = (X-self.mean) / self.std\n",
    "        X = self.add_X0(X)\n",
    "        return X\n",
    "    \n",
    "    def fit(self, X, y):\n",
    "        #n = X.shape[0]\n",
    "        #y = np.where(y <= 0, -1, 1)\n",
    "        if self.normalize:\n",
    "            X = self.normalize_testdata(X)\n",
    "        self.w = np.zeros(X.shape[1])\n",
    "        self.b = 0        \n",
    "        for i in tqdm(range(0, self.max_iterations)):\n",
    "            for idx, xi in enumerate(X):\n",
    "                condition = (y[0][idx] * (np.dot(self.w, xi))) + self.b\n",
    "                if condition >= 1:\n",
    "                    self.w = self.w - self.learning_rate * (2 * self.lambda_ * np.array(self.w))\n",
    "                else:\n",
    "                    \n",
    "                    self.w = self.w - self.learning_rate * ((2 * self.lambda_ * np.array(self.w)) \n",
    "                                                            - np.dot(xi, y[0][idx]))\n",
    "                    self.b = self.b - (self.learning_rate * -y[0][idx])\n",
    "                                 \n",
    "                    \n",
    "    def predict(self, X):\n",
    "        if self.normalize:\n",
    "            X = self.normalize_traindata(X)\n",
    "        pred = np.dot(X, self.w) + self.b\n",
    "        return pred"
   ]
  },
  {
   "cell_type": "code",
   "execution_count": 314,
   "id": "5483bd38",
   "metadata": {},
   "outputs": [],
   "source": [
    "# MULTI-CLASS solver\n",
    "\n",
    "class multiclassSolver:\n",
    "    \n",
    "    def __init__(self, X, y, model):\n",
    "        self.X = X\n",
    "        self.y = y\n",
    "        self.model = model\n",
    "    \n",
    "    def fit(self):\n",
    "        self.weights_array = []\n",
    "        self.models_array = []\n",
    "        for i in np.unique(self.y):\n",
    "            print(\"Training for target Class\", i)\n",
    "            y_ = pd.DataFrame(np.where(self.y.copy() == i, 1, -1))\n",
    "            self.models_array.append(copy.copy(self.model))\n",
    "            weights = self.models_array[-1].fit(self.X, y_)\n",
    "            #weights = [sub_arr[0] for sub_arr in weights]\n",
    "            #self.weights_array.append(weights)\n",
    "        print(\"Training completed\")    \n",
    "        return self.weights_array\n",
    "    \n",
    "    def predict(self, X):\n",
    "        pred = []\n",
    "        for i in range (0, len(np.unique(self.y))): \n",
    "            pred.append(self.models_array[i].predict(X))\n",
    "        max_indices = np.argmax(pred, axis=0)\n",
    "        return max_indices\n",
    "        \n"
   ]
  },
  {
   "cell_type": "markdown",
   "id": "eaf03c53",
   "metadata": {},
   "source": [
    "Usage"
   ]
  },
  {
   "cell_type": "code",
   "execution_count": 315,
   "id": "e7cdb8a4",
   "metadata": {},
   "outputs": [],
   "source": [
    "# data (as pandas dataframes) \n",
    "X = room_occupancy_estimation.data.features \n",
    "y = room_occupancy_estimation.data.targets "
   ]
  },
  {
   "cell_type": "code",
   "execution_count": 316,
   "id": "29fd1a38",
   "metadata": {},
   "outputs": [],
   "source": [
    "X = X.drop(columns = ['Date','Time'])"
   ]
  },
  {
   "cell_type": "code",
   "execution_count": 317,
   "id": "ff02615f",
   "metadata": {},
   "outputs": [
    {
     "name": "stdout",
     "output_type": "stream",
     "text": [
      "(32912, 16)\n"
     ]
    }
   ],
   "source": [
    "def oversample_minority_classes(X, y):\n",
    "    smote = SMOTE(sampling_strategy='auto', random_state=42)\n",
    "    X_resampled, y_resampled = smote.fit_resample(X, y)\n",
    "    return X_resampled, y_resampled\n",
    "\n",
    "X_resampled, y_resampled = oversample_minority_classes(X, y)\n",
    "\n",
    "print(X_resampled.shape)"
   ]
  },
  {
   "cell_type": "code",
   "execution_count": 290,
   "id": "a800ee02",
   "metadata": {},
   "outputs": [],
   "source": [
    "baseline = BaselineClassifier(X_resampled, y_resampled)"
   ]
  },
  {
   "cell_type": "code",
   "execution_count": 291,
   "id": "1102b16e",
   "metadata": {},
   "outputs": [],
   "source": [
    "baseline_ = baseline.predict()"
   ]
  },
  {
   "cell_type": "code",
   "execution_count": 282,
   "id": "38f32cd3",
   "metadata": {},
   "outputs": [
    {
     "name": "stdout",
     "output_type": "stream",
     "text": [
      "\n",
      "Accuracy: 0.24626276130286825\n",
      "Precision: 0.24625997055719473\n",
      "Recall: 0.24626276130286825\n"
     ]
    }
   ],
   "source": [
    "# Baseline model metrics\n",
    "\n",
    "# Accuracy\n",
    "accuracy = accuracy_score(y_resampled, baseline_)\n",
    "\n",
    "# Precision\n",
    "precision = precision_score(y_resampled, baseline_, average='weighted')\n",
    "\n",
    "# Recall\n",
    "recall = recall_score(y_resampled, baseline_, average='weighted')\n",
    "#conf_matrix = confusion_matrix(y_resampled, baseline_)\n",
    "\n",
    "#print(\"Confusion Matrix:\")\n",
    "#print(conf_matrix)\n",
    "print(\"\\nAccuracy:\", accuracy)\n",
    "print(\"Precision:\", precision)\n",
    "print(\"Recall:\", recall)"
   ]
  },
  {
   "cell_type": "code",
   "execution_count": 318,
   "id": "aa7b7fd9",
   "metadata": {},
   "outputs": [],
   "source": [
    "# Spit data\n",
    "trainX, testX, trainY, testY = train_test_split(X_resampled, y_resampled, test_size = 0.20)"
   ]
  },
  {
   "cell_type": "code",
   "execution_count": 322,
   "id": "b3853681",
   "metadata": {},
   "outputs": [],
   "source": [
    "model = SVM()"
   ]
  },
  {
   "cell_type": "code",
   "execution_count": 323,
   "id": "a4b3ebc0",
   "metadata": {},
   "outputs": [],
   "source": [
    "a = multiclassSolver(trainX, trainY, model)"
   ]
  },
  {
   "cell_type": "code",
   "execution_count": 324,
   "id": "9cb25253",
   "metadata": {},
   "outputs": [
    {
     "name": "stdout",
     "output_type": "stream",
     "text": [
      "Training for target Class 0\n"
     ]
    },
    {
     "name": "stderr",
     "output_type": "stream",
     "text": [
      "100%|█████████████████████████████████████████| 100/100 [00:30<00:00,  3.23it/s]\n"
     ]
    },
    {
     "name": "stdout",
     "output_type": "stream",
     "text": [
      "Training for target Class 1\n"
     ]
    },
    {
     "name": "stderr",
     "output_type": "stream",
     "text": [
      "100%|█████████████████████████████████████████| 100/100 [00:36<00:00,  2.73it/s]\n"
     ]
    },
    {
     "name": "stdout",
     "output_type": "stream",
     "text": [
      "Training for target Class 2\n"
     ]
    },
    {
     "name": "stderr",
     "output_type": "stream",
     "text": [
      "100%|█████████████████████████████████████████| 100/100 [00:39<00:00,  2.51it/s]\n"
     ]
    },
    {
     "name": "stdout",
     "output_type": "stream",
     "text": [
      "Training for target Class 3\n"
     ]
    },
    {
     "name": "stderr",
     "output_type": "stream",
     "text": [
      "100%|█████████████████████████████████████████| 100/100 [00:34<00:00,  2.87it/s]"
     ]
    },
    {
     "name": "stdout",
     "output_type": "stream",
     "text": [
      "Training completed\n"
     ]
    },
    {
     "name": "stderr",
     "output_type": "stream",
     "text": [
      "\n"
     ]
    }
   ],
   "source": [
    "wt = a.fit()"
   ]
  },
  {
   "cell_type": "code",
   "execution_count": 325,
   "id": "40cc496c",
   "metadata": {},
   "outputs": [],
   "source": [
    "s = a.predict(testX)"
   ]
  },
  {
   "cell_type": "code",
   "execution_count": 332,
   "id": "bed1c548",
   "metadata": {},
   "outputs": [
    {
     "name": "stdout",
     "output_type": "stream",
     "text": [
      "Confusion Matrix:\n",
      "[[1633   10    0   23]\n",
      " [   0 1609    1    1]\n",
      " [   0  249  508  910]\n",
      " [  22    0   42 1575]]\n",
      "Precision: [0.98670695 0.86134904 0.92196007 0.62774014]\n",
      "Recall: [0.98019208 0.99875854 0.30473905 0.9609518 ]\n",
      "Accuracy: 0.8089017165426098\n"
     ]
    }
   ],
   "source": [
    "# SVM accuracy\n",
    "\n",
    "import numpy as np\n",
    "\n",
    "def confusion_matrix(y_true, y_pred, num_classes):\n",
    "    matrix = np.zeros((num_classes, num_classes), dtype=int)\n",
    "    for true, pred in zip(y_true, y_pred):\n",
    "        matrix[int(true), int(pred)] += 1\n",
    "    return matrix\n",
    "\n",
    "def precision_recall_accuracy(conf_matrix):\n",
    "    num_classes = conf_matrix.shape[0]\n",
    "    precision = np.zeros(num_classes)\n",
    "    recall = np.zeros(num_classes)\n",
    "    accuracy = np.trace(conf_matrix) / np.sum(conf_matrix)\n",
    "    for i in range(num_classes):\n",
    "        true_positives = conf_matrix[i, i]\n",
    "        false_positives = np.sum(conf_matrix[:, i]) - true_positives\n",
    "        false_negatives = np.sum(conf_matrix[i, :]) - true_positives\n",
    "        precision[i] = true_positives / (true_positives + false_positives)\n",
    "        recall[i] = true_positives / (true_positives + false_negatives)\n",
    "    return precision, recall, accuracy\n",
    "\n",
    "\n",
    "conf_matrix = confusion_matrix(np.array(testY), s, 4)\n",
    "precision, recall, accuracy = precision_recall_accuracy(conf_matrix)\n",
    "\n",
    "print(\"Confusion Matrix:\")\n",
    "print(conf_matrix)\n",
    "print(\"Precision:\", precision)\n",
    "print(\"Recall:\", recall)\n",
    "print(\"Accuracy:\", accuracy)\n"
   ]
  }
 ],
 "metadata": {
  "kernelspec": {
   "display_name": "Python 3 (ipykernel)",
   "language": "python",
   "name": "python3"
  },
  "language_info": {
   "codemirror_mode": {
    "name": "ipython",
    "version": 3
   },
   "file_extension": ".py",
   "mimetype": "text/x-python",
   "name": "python",
   "nbconvert_exporter": "python",
   "pygments_lexer": "ipython3",
   "version": "3.9.12"
  }
 },
 "nbformat": 4,
 "nbformat_minor": 5
}
